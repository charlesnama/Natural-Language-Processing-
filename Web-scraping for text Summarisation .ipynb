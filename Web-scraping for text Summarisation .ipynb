{
 "cells": [
  {
   "cell_type": "code",
   "execution_count": 113,
   "metadata": {},
   "outputs": [],
   "source": [
    "#Importing the required dependencies \n",
    "from urllib import request \n",
    "from bs4 import BeautifulSoup as bs \n",
    "import re\n",
    "import nltk \n",
    "import pandas as pd\n",
    "import heapq"
   ]
  },
  {
   "cell_type": "code",
   "execution_count": 114,
   "metadata": {},
   "outputs": [],
   "source": [
    "url = \"https://en.wikipedia.org/wiki/Machine_learning\""
   ]
  },
  {
   "cell_type": "code",
   "execution_count": 115,
   "metadata": {},
   "outputs": [],
   "source": [
    "#getting the data from the URL using paragraphs as a point of contact\n",
    "htmlDoc = request.urlopen(url)\n",
    "soupObject = bs(htmlDoc,'html.parser')\n",
    "paragraphContents = soupObject.findAll('p')"
   ]
  },
  {
   "cell_type": "code",
   "execution_count": 116,
   "metadata": {},
   "outputs": [],
   "source": [
    "#print(paragraphContents)"
   ]
  },
  {
   "cell_type": "code",
   "execution_count": 117,
   "metadata": {},
   "outputs": [],
   "source": [
    "allParagraphContent = \" \""
   ]
  },
  {
   "cell_type": "code",
   "execution_count": 118,
   "metadata": {},
   "outputs": [],
   "source": [
    "#Retrieving the text from the complete data \n",
    "for paragraphContent in paragraphContents:\n",
    "    allParagraphContent += paragraphContent.text\n",
    "    #print(allParagraphContent)"
   ]
  },
  {
   "cell_type": "code",
   "execution_count": 27,
   "metadata": {},
   "outputs": [],
   "source": []
  },
  {
   "cell_type": "code",
   "execution_count": 68,
   "metadata": {},
   "outputs": [],
   "source": [
    "#allParagraphContent_cleaned  = re.sub(r'\\s+',\" \",allParagraphContent)"
   ]
  },
  {
   "cell_type": "code",
   "execution_count": 119,
   "metadata": {},
   "outputs": [],
   "source": [
    "#Replacing everything not alphabet or punctuation\n",
    "allParagraphContent_cleaned  = re.sub('[^a-zA-Z,.?\"]+',\" \",allParagraphContent)"
   ]
  },
  {
   "cell_type": "code",
   "execution_count": 120,
   "metadata": {},
   "outputs": [],
   "source": [
    "#print(allParagraphContent_cleaned)"
   ]
  },
  {
   "cell_type": "code",
   "execution_count": 121,
   "metadata": {},
   "outputs": [],
   "source": [
    "##Create sentence tokens \n",
    "sentences_tokens = nltk.sent_tokenize(allParagraphContent_cleaned)"
   ]
  },
  {
   "cell_type": "code",
   "execution_count": 122,
   "metadata": {},
   "outputs": [],
   "source": [
    "#Stopwords in this context are the day to day or commonly used words \n",
    "from nltk.corpus import stopwords\n",
    "from nltk.tokenize import word_tokenize"
   ]
  },
  {
   "cell_type": "code",
   "execution_count": 123,
   "metadata": {},
   "outputs": [],
   "source": [
    "#Creating the initializer  \n",
    "stopwords = nltk.corpus.stopwords.words('english')"
   ]
  },
  {
   "cell_type": "code",
   "execution_count": 124,
   "metadata": {},
   "outputs": [],
   "source": [
    "#creating a variable for the individual words\n",
    "word_tokens = nltk.word_tokenize(allParagraphContent_cleaned)"
   ]
  },
  {
   "cell_type": "code",
   "execution_count": 125,
   "metadata": {},
   "outputs": [],
   "source": [
    "#Taking word frequency\n",
    "word_frequencies = {}\n",
    "for word in word_tokens:\n",
    "    if word not in stopwords:\n",
    "        if word not in word_frequencies.keys():\n",
    "            word_frequencies[word]=1\n",
    "        else:\n",
    "            word_frequencies[word]+=1"
   ]
  },
  {
   "cell_type": "code",
   "execution_count": 126,
   "metadata": {},
   "outputs": [
    {
     "name": "stdout",
     "output_type": "stream",
     "text": [
      "{'Machine': 12, 'learning': 167, 'ML': 1, 'study': 5, 'computer': 14, 'algorithms': 43, 'improve': 5, 'automatically': 1, 'experience': 4, '.': 266, 'It': 11, 'seen': 2, 'subset': 2, 'artificial': 17, 'intelligence': 6, 'build': 3, 'mathematical': 8, 'model': 32, 'based': 13, 'sample': 3, 'data': 77, ',': 343, 'known': 11, '``': 24, 'training': 46, \"''\": 23, 'order': 5, 'make': 5, 'predictions': 8, 'decisions': 4, 'without': 7, 'explicitly': 3, 'programmed': 3, 'used': 27, 'wide': 1, 'variety': 4, 'applications': 4, 'email': 3, 'filtering': 2, 'vision': 4, 'difficult': 2, 'infeasible': 2, 'develop': 2, 'conventional': 1, 'perform': 11, 'needed': 4, 'tasks': 15, 'closely': 3, 'related': 9, 'computational': 4, 'statistics': 10, 'focuses': 3, 'making': 3, 'using': 11, 'computers': 5, 'The': 27, 'optimization': 5, 'delivers': 1, 'methods': 19, 'theory': 9, 'application': 4, 'domains': 3, 'field': 18, 'machine': 77, 'Data': 3, 'mining': 11, 'focusing': 1, 'exploratory': 1, 'analysis': 11, 'unsupervised': 11, 'In': 34, 'across': 2, 'business': 1, 'problems': 11, 'also': 16, 'referred': 2, 'predictive': 4, 'analytics': 1, 'involves': 4, 'discovering': 5, 'provided': 4, 'carry': 1, 'certain': 4, 'For': 11, 'simple': 1, 'assigned': 2, 'possible': 1, 'program': 7, 'telling': 1, 'execute': 1, 'steps': 1, 'required': 2, 'solve': 5, 'problem': 7, 'hand': 2, 'part': 3, 'advanced': 1, 'challenging': 1, 'human': 8, 'manually': 1, 'create': 1, 'practice': 1, 'turn': 1, 'effective': 4, 'help': 2, 'algorithm': 20, 'rather': 3, 'programmers': 1, 'specify': 1, 'every': 1, 'step': 4, 'discipline': 2, 'employs': 2, 'various': 4, 'approaches': 7, 'learn': 11, 'accomplish': 1, 'fully': 1, 'satisfactory': 1, 'available': 2, 'cases': 2, 'vast': 1, 'numbers': 2, 'potential': 2, 'answers': 3, 'exist': 4, 'one': 15, 'approach': 8, 'label': 2, 'correct': 2, 'valid': 1, 'This': 11, 'uses': 4, 'determine': 3, 'example': 19, 'train': 2, 'system': 11, 'task': 7, 'digital': 1, 'character': 1, 'recognition': 5, 'MNIST': 1, 'dataset': 2, 'often': 14, 'Early': 1, 'classifications': 1, 'sometimes': 4, 'divided': 1, 'three': 2, 'broad': 2, 'categories': 3, 'depending': 1, 'nature': 3, 'signal': 9, 'feedback': 3, 'These': 2, 'Supervised': 3, 'presented': 1, 'inputs': 12, 'desired': 3, 'outputs': 6, 'given': 6, 'teacher': 2, 'goal': 9, 'general': 3, 'rule': 9, 'maps': 1, 'Unsupervised': 4, 'No': 1, 'labels': 7, 'leaving': 1, 'find': 3, 'structure': 3, 'input': 15, 'hidden': 3, 'patterns': 4, 'means': 2, 'towards': 1, 'end': 1, 'feature': 7, 'Reinforcement': 4, 'A': 10, 'interacts': 1, 'dynamic': 3, 'environment': 9, 'must': 1, 'driving': 2, 'vehicle': 1, 'playing': 2, 'game': 3, 'opponent': 2, 'As': 5, 'navigates': 1, 'space': 4, 'analogous': 1, 'rewards': 2, 'tries': 2, 'maximise': 1, 'Other': 3, 'processes': 2, 'since': 1, 'developed': 1, 'fit': 3, 'neatly': 1, 'fold': 3, 'categorisation': 1, 'topic': 1, 'modeling': 3, 'dimensionality': 1, 'reduction': 1, 'meta': 1, 'deep': 4, 'become': 1, 'dominant': 2, 'much': 1, 'ongoing': 1, 'work': 2, 'term': 4, 'coined': 1, 'Arthur': 1, 'Samuel': 1, 'American': 1, 'IBMer': 1, 'pioneer': 1, 'gaming': 1, 'representative': 3, 'book': 3, 'research': 6, 'Nilsson': 1, 'Learning': 2, 'Machines': 1, 'dealing': 2, 'mostly': 2, 'pattern': 4, 'classification': 16, 'Interest': 1, 'continued': 2, 'described': 1, 'Duda': 1, 'Hart': 1, 'report': 3, 'teaching': 1, 'strategies': 1, 'neural': 9, 'network': 9, 'learns': 4, 'recognize': 2, 'characters': 1, 'letters': 1, 'digits': 1, 'special': 1, 'symbols': 1, 'terminal': 1, 'Tom': 1, 'M.': 1, 'Mitchell': 1, 'widely': 1, 'quoted': 1, 'formal': 1, 'definition': 4, 'studied': 2, 'said': 2, 'E': 1, 'respect': 3, 'class': 7, 'T': 3, 'performance': 10, 'measure': 2, 'P': 2, 'measured': 1, 'improves': 2, 'E.': 1, 'concerned': 3, 'offers': 1, 'fundamentally': 1, 'operational': 1, 'defining': 2, 'cognitive': 1, 'terms': 3, 'follows': 1, 'Alan': 1, 'Turing': 1, 'proposal': 1, 'paper': 1, 'Computing': 1, 'Machinery': 1, 'Intelligence': 2, 'question': 2, 'Can': 2, 'machines': 6, 'think': 1, '?': 2, 'replaced': 1, 'thinking': 1, 'entities': 1, 'scientific': 1, 'endeavor': 1, 'grew': 1, 'quest': 1, 'early': 1, 'days': 1, 'AI': 14, 'academic': 1, 'researchers': 4, 'interested': 1, 'They': 2, 'attempted': 1, 'symbolic': 3, 'well': 5, 'termed': 1, 'networks': 11, 'perceptrons': 2, 'models': 13, 'later': 1, 'found': 6, 'reinventions': 1, 'generalized': 1, 'linear': 9, 'Probabilistic': 2, 'reasoning': 1, 'employed': 2, 'especially': 2, 'automated': 2, 'medical': 5, 'diagnosis': 2, 'However': 4, 'increasing': 2, 'emphasis': 1, 'logical': 3, 'knowledge': 13, 'caused': 1, 'rift': 1, 'systems': 15, 'plagued': 1, 'theoretical': 4, 'practical': 2, 'acquisition': 1, 'representation': 7, 'By': 2, 'expert': 1, 'come': 2, 'dominate': 1, 'favor': 1, 'Work': 1, 'continue': 2, 'within': 4, 'leading': 3, 'inductive': 3, 'logic': 7, 'programming': 8, 'statistical': 7, 'line': 3, 'outside': 2, 'proper': 1, 'information': 6, 'retrieval': 1, 'Neural': 1, 'abandoned': 1, 'science': 3, 'around': 1, 'time': 10, 'CS': 1, 'connectionism': 1, 'disciplines': 2, 'including': 5, 'Hopfield': 1, 'Rumelhart': 1, 'Hinton': 1, 'Their': 1, 'main': 1, 'success': 1, 'came': 1, 'mid': 1, 'reinvention': 1, 'backpropagation': 1, 'reorganized': 1, 'separate': 5, 'started': 1, 'flourish': 1, 's.': 2, 'changed': 2, 'achieving': 1, 'tackling': 1, 'solvable': 1, 'shifted': 1, 'focus': 1, 'away': 1, 'inherited': 1, 'toward': 2, 'borrowed': 1, 'probability': 3, 'many': 12, 'sources': 1, 'assert': 1, 'remains': 1, 'sub': 1, 'Yet': 1, 'practitioners': 1, 'Dr': 1, 'Daniel': 1, 'Hulme': 1, 'teaches': 1, 'runs': 1, 'company': 1, 'operating': 1, 'argues': 1, 'employ': 1, 'overlap': 1, 'significantly': 2, 'prediction': 3, 'properties': 2, 'learned': 10, 'discovery': 5, 'previously': 6, 'unknown': 4, 'databases': 3, 'different': 5, 'goals': 1, 'preprocessing': 1, 'learner': 3, 'accuracy': 7, 'Much': 1, 'confusion': 1, 'two': 8, 'communities': 1, 'conferences': 1, 'journals': 1, 'ECML': 1, 'PKDD': 1, 'major': 1, 'exception': 1, 'comes': 1, 'basic': 1, 'assumptions': 2, 'usually': 2, 'evaluated': 2, 'ability': 3, 'reproduce': 1, 'KDD': 2, 'key': 3, 'Evaluated': 1, 'uninformed': 1, 'method': 10, 'easily': 1, 'outperformed': 1, 'supervised': 14, 'typical': 1, 'due': 1, 'unavailability': 1, 'intimate': 1, 'ties': 1, 'formulated': 1, 'minimization': 1, 'loss': 3, 'function': 9, 'set': 28, 'examples': 14, 'Loss': 1, 'functions': 3, 'express': 2, 'discrepancy': 1, 'trained': 7, 'actual': 1, 'instances': 5, 'wants': 1, 'assign': 1, 'correctly': 2, 'predict': 5, 'pre': 3, 'difference': 3, 'fields': 3, 'arises': 1, 'generalization': 4, 'minimize': 1, 'minimizing': 1, 'unseen': 3, 'samples': 2, 'distinct': 1, 'principal': 2, 'draws': 1, 'population': 1, 'inferences': 1, 'finds': 1, 'generalizable': 1, 'According': 1, 'Michael': 1, 'I.': 1, 'Jordan': 1, 'ideas': 1, 'methodological': 1, 'principles': 1, 'tools': 2, 'long': 2, 'history': 2, 'He': 1, 'suggested': 1, 'placeholder': 1, 'call': 2, 'overall': 2, 'Leo': 1, 'Breiman': 1, 'distinguished': 1, 'paradigms': 1, 'algorithmic': 4, 'wherein': 1, 'less': 2, 'like': 6, 'Random': 1, 'forest': 1, 'Some': 3, 'statisticians': 1, 'adopted': 2, 'combined': 1, 'core': 1, 'objective': 2, 'generalize': 1, 'Generalization': 1, 'context': 4, 'accurately': 1, 'new': 9, 'experienced': 1, 'generally': 2, 'distribution': 3, 'considered': 2, 'occurrences': 1, 'enables': 1, 'produce': 2, 'sufficiently': 1, 'accurate': 1, 'branch': 1, 'Because': 3, 'sets': 2, 'finite': 1, 'future': 1, 'uncertain': 1, 'yield': 1, 'guarantees': 1, 'Instead': 3, 'probabilistic': 5, 'bounds': 2, 'quite': 1, 'common': 4, 'bias': 6, 'variance': 1, 'decomposition': 1, 'way': 4, 'quantify': 1, 'error': 2, 'best': 4, 'complexity': 5, 'hypothesis': 3, 'match': 1, 'underlying': 2, 'If': 2, 'complex': 2, 'fitted': 1, 'increased': 1, 'response': 1, 'decreases': 2, 'But': 1, 'subject': 1, 'overfitting': 2, 'poorer': 1, 'addition': 5, 'theorists': 1, 'feasibility': 1, 'computation': 1, 'feasible': 1, 'done': 1, 'polynomial': 4, 'There': 6, 'kinds': 2, 'results': 4, 'Positive': 3, 'show': 2, 'Negative': 3, 'classes': 1, 'types': 2, 'differ': 1, 'type': 2, 'output': 9, 'intended': 2, 'contains': 3, 'consists': 2, 'Each': 2, 'supervisory': 1, 'represented': 10, 'array': 1, 'vector': 5, 'called': 10, 'matrix': 4, 'Through': 1, 'iterative': 1, 'associated': 4, 'An': 6, 'optimal': 1, 'allow': 1, 'Types': 1, 'include': 7, 'Active': 1, 'regression': 10, 'Classification': 2, 'restricted': 1, 'limited': 2, 'values': 3, 'may': 9, 'numerical': 1, 'value': 3, 'range': 1, 'filters': 1, 'emails': 1, 'would': 6, 'incoming': 1, 'name': 1, 'folder': 1, 'file': 1, 'Similarity': 1, 'area': 2, 'similarity': 4, 'measures': 1, 'similar': 2, 'objects': 3, 'ranking': 1, 'recommendation': 4, 'visual': 1, 'identity': 1, 'tracking': 1, 'face': 1, 'verification': 2, 'speaker': 1, 'take': 5, 'grouping': 1, 'clustering': 3, 'points': 1, 'therefore': 1, 'test': 7, 'labeled': 6, 'classified': 1, 'categorized': 1, 'responding': 1, 'identify': 4, 'commonalities': 2, 'react': 1, 'presence': 2, 'absence': 1, 'piece': 1, 'central': 1, 'density': 3, 'estimation': 2, 'finding': 2, 'Though': 1, 'encompasses': 2, 'involving': 1, 'summarizing': 1, 'explaining': 1, 'features': 11, 'Cluster': 1, 'assignment': 1, 'observations': 5, 'subsets': 3, 'clusters': 4, 'cluster': 4, 'according': 2, 'predesignated': 1, 'criteria': 1, 'drawn': 2, 'dissimilar': 1, 'Different': 2, 'techniques': 8, 'defined': 2, 'metric': 1, 'internal': 1, 'compactness': 1, 'members': 2, 'separation': 1, 'estimated': 2, 'graph': 2, 'connectivity': 1, 'Semi': 2, 'falls': 2, 'completely': 1, 'missing': 1, 'yet': 1, 'unlabeled': 3, 'conjunction': 1, 'small': 1, 'amount': 2, 'considerable': 1, 'improvement': 1, 'weakly': 1, 'noisy': 1, 'imprecise': 1, 'however': 1, 'cheaper': 1, 'obtain': 1, 'resulting': 2, 'larger': 1, 'software': 2, 'agents': 1, 'ought': 1, 'actions': 2, 'maximize': 1, 'notion': 1, 'cumulative': 1, 'reward': 1, 'Due': 1, 'generality': 1, 'control': 1, 'operations': 1, 'simulation': 1, 'multi': 1, 'agent': 1, 'swarm': 1, 'genetic': 7, 'typically': 5, 'Markov': 1, 'Decision': 3, 'Process': 1, 'MDP': 2, 'Many': 1, 'reinforcement': 4, 'use': 9, 'assume': 1, 'exact': 2, 'autonomous': 1, 'vehicles': 1, 'play': 1, 'Self': 1, 'paradigm': 1, 'introduced': 2, 'along': 1, 'capable': 1, 'self': 5, 'named': 1, 'Crossbar': 1, 'Adaptive': 1, 'Array': 1, 'CAA': 4, 'external': 2, 'advices': 1, 'computes': 1, 'crossbar': 1, 'fashion': 1, 'emotions': 2, 'feelings': 1, 'consequence': 2, 'situations': 3, 'driven': 1, 'interaction': 2, 'cognition': 1, 'emotion': 2, 'updates': 1, 'memory': 1, 'W': 1, 'w': 1, 'iteration': 1, 'executes': 1, 'following': 2, 'routine': 1, 'situation': 2, 'action': 1, 'behavior': 3, 'neither': 1, 'advice': 1, 'backpropagated': 1, 'secondary': 1, 'exists': 1, 'environments': 1, 'behavioral': 2, 'behaves': 1, 'wherefrom': 1, 'initially': 1, 'receives': 2, 'initial': 2, 'encountered': 1, 'After': 1, 'receiving': 1, 'genome': 1, 'species': 1, 'seeking': 1, 'desirable': 1, 'undesirable': 1, 'Several': 1, 'aim': 2, 'better': 2, 'representations': 4, 'Classic': 1, 'components': 1, 'Feature': 3, 'attempt': 3, 'preserve': 1, 'transform': 1, 'makes': 1, 'useful': 2, 'processing': 3, 'performing': 4, 'technique': 2, 'allows': 2, 'reconstruction': 1, 'coming': 1, 'generating': 3, 'necessarily': 2, 'faithful': 1, 'configurations': 1, 'implausible': 1, 'replaces': 1, 'manual': 1, 'engineering': 1, 'specific': 5, 'either': 3, 'Examples': 2, 'multilayer': 1, 'dictionary': 9, 'independent': 1, 'component': 3, 'autoencoders': 1, 'factorization': 1, 'forms': 2, 'Manifold': 1, 'constraint': 2, 'low': 2, 'dimensional': 5, 'Sparse': 4, 'coding': 1, 'sparse': 3, 'meaning': 2, 'zeros': 1, 'Multilinear': 1, 'subspace': 1, 'directly': 1, 'tensor': 1, 'multidimensional': 1, 'reshaping': 1, 'higher': 3, 'vectors': 1, 'Deep': 2, 'discover': 2, 'multiple': 3, 'levels': 1, 'hierarchy': 1, 'level': 2, 'abstract': 1, 'lower': 1, 'argued': 1, 'intelligent': 1, 'disentangles': 1, 'factors': 1, 'variation': 1, 'explain': 2, 'observed': 2, 'motivated': 1, 'fact': 1, 'require': 3, 'mathematically': 1, 'computationally': 1, 'convenient': 1, 'process': 6, 'real': 4, 'world': 1, 'images': 2, 'video': 2, 'sensory': 1, 'yielded': 1, 'attempts': 1, 'algorithmically': 1, 'define': 1, 'alternative': 1, 'examination': 1, 'relying': 1, 'explicit': 1, 'combination': 1, 'basis': 2, 'assumed': 1, 'strongly': 1, 'NP': 1, 'hard': 1, 'approximately': 1, 'popular': 1, 'heuristic': 2, 'K': 5, 'SVD': 1, 'applied': 4, 'several': 1, 'contexts': 1, 'belongs': 1, 'already': 2, 'built': 3, 'sparsely': 2, 'corresponding': 1, 'image': 3, 'de': 1, 'noising': 1, 'idea': 1, 'clean': 1, 'patch': 1, 'noise': 2, 'anomaly': 5, 'detection': 10, 'outlier': 4, 'identification': 2, 'rare': 3, 'items': 3, 'events': 1, 'raise': 1, 'suspicions': 1, 'differing': 1, 'majority': 2, 'Typically': 2, 'anomalous': 1, 'represent': 7, 'issue': 1, 'bank': 1, 'fraud': 1, 'structural': 1, 'defect': 1, 'errors': 1, 'text': 2, 'Anomalies': 1, 'outliers': 1, 'novelties': 1, 'deviations': 2, 'exceptions': 1, 'particular': 4, 'abuse': 1, 'intrusion': 2, 'interesting': 1, 'unexpected': 1, 'bursts': 1, 'activity': 1, 'adhere': 1, 'object': 1, 'fail': 3, 'unless': 1, 'aggregated': 2, 'appropriately': 1, 'able': 3, 'detect': 3, 'micro': 1, 'formed': 1, 'Three': 1, 'anomalies': 1, 'assumption': 1, 'normal': 4, 'looking': 1, 'seem': 1, 'least': 3, 'remainder': 1, 'abnormal': 1, 'classifier': 4, 'inherently': 1, 'unbalanced': 1, 'construct': 1, 'representing': 2, 'likelihood': 1, 'instance': 2, 'generated': 1, 'developmental': 1, 'robotics': 1, 'robot': 1, 'generate': 2, 'sequences': 3, 'experiences': 1, 'curriculum': 1, 'cumulatively': 1, 'acquire': 1, 'skills': 1, 'guided': 1, 'exploration': 1, 'social': 2, 'humans': 1, 'robots': 1, 'guidance': 1, 'mechanisms': 1, 'active': 1, 'maturation': 1, 'motor': 1, 'synergies': 1, 'imitation': 1, 'Association': 1, 'relationships': 2, 'variables': 5, 'large': 6, 'strong': 2, 'rules': 9, 'discovered': 1, 'interestingness': 1, 'Rule': 2, 'identifies': 1, 'evolves': 1, 'store': 2, 'manipulate': 1, 'apply': 2, 'characteristic': 1, 'utilization': 1, 'relational': 1, 'collectively': 2, 'captured': 1, 'contrast': 2, 'commonly': 2, 'singular': 1, 'universally': 1, 'association': 4, 'immune': 1, 'Based': 1, 'concept': 1, 'Rakesh': 1, 'Agrawal': 1, 'Tomasz': 1, 'Imieli': 1, 'ski': 1, 'Arun': 1, 'Swami': 1, 'regularities': 1, 'products': 1, 'scale': 2, 'transaction': 2, 'recorded': 1, 'point': 1, 'sale': 1, 'POS': 1, 'supermarkets': 1, 'n': 3, 'p': 1, 'e': 2, 'b': 1, 'u': 1, 'r': 2, 'g': 1, 'displaystyle': 1, 'mathrm': 2, 'onions': 2, 'potatoes': 2, 'Rightarrow': 1, 'burger': 1, 'sales': 1, 'supermarket': 1, 'indicate': 1, 'customer': 2, 'buys': 1, 'together': 1, 'likely': 2, 'buy': 1, 'hamburger': 1, 'meat': 1, 'Such': 2, 'marketing': 1, 'activities': 1, 'promotional': 1, 'pricing': 1, 'product': 1, 'placements': 1, 'market': 1, 'basket': 1, 'today': 1, 'areas': 1, 'Web': 1, 'usage': 1, 'continuous': 2, 'production': 1, 'bioinformatics': 2, 'sequence': 1, 'consider': 1, 'transactions': 1, 'LCS': 1, 'family': 1, 'combine': 1, 'seek': 1, 'dependent': 1, 'piecewise': 1, 'manner': 1, 'Inductive': 3, 'ILP': 2, 'uniform': 1, 'background': 2, 'hypotheses': 2, 'Given': 3, 'encoding': 1, 'database': 1, 'facts': 2, 'derive': 1, 'hypothesized': 1, 'entails': 1, 'positive': 2, 'negative': 2, 'considers': 1, 'kind': 1, 'languages': 2, 'functional': 1, 'programs': 3, 'particularly': 1, 'natural': 2, 'language': 3, 'Gordon': 1, 'Plotkin': 1, 'Ehud': 1, 'Shapiro': 2, 'laid': 1, 'foundation': 1, 'setting': 2, 'first': 4, 'implementation': 1, 'Model': 1, 'Inference': 1, 'System': 1, 'Prolog': 1, 'inductively': 1, 'inferred': 1, 'refers': 1, 'philosophical': 1, 'induction': 2, 'suggesting': 1, 'proving': 1, 'property': 1, 'ordered': 1, 'Performing': 1, 'creating': 1, 'additional': 2, 'Various': 1, 'researched': 1, 'Artificial': 5, 'ANNs': 1, 'connectionist': 1, 'computing': 1, 'vaguely': 1, 'inspired': 2, 'biological': 3, 'constitute': 1, 'animal': 1, 'brains': 1, 'considering': 2, 'ANN': 3, 'collection': 3, 'connected': 2, 'units': 3, 'nodes': 1, 'neurons': 8, 'loosely': 1, 'brain': 4, 'connection': 3, 'synapses': 1, 'transmit': 1, 'neuron': 3, 'another': 1, 'implementations': 1, 'number': 1, 'computed': 1, 'non': 7, 'sum': 1, 'connections': 1, 'edges': 2, 'weight': 2, 'adjusts': 1, 'proceeds': 1, 'increases': 2, 'strength': 1, 'threshold': 2, 'sent': 1, 'aggregate': 1, 'crosses': 1, 'layers': 5, 'transformations': 1, 'Signals': 1, 'travel': 1, 'layer': 5, 'last': 1, 'possibly': 1, 'traversing': 1, 'times': 1, 'original': 1, 'attention': 1, 'moved': 1, 'biology': 1, 'speech': 3, 'translation': 1, 'board': 1, 'games': 1, 'light': 1, 'sound': 1, 'hearing': 1, 'successful': 2, 'tree': 6, 'decision': 7, 'go': 2, 'item': 2, 'branches': 2, 'conclusions': 1, 'target': 3, 'leaves': 2, 'Tree': 1, 'variable': 2, 'discrete': 1, 'trees': 3, 'structures': 1, 'conjunctions': 1, 'lead': 2, 'visually': 1, 'describes': 1, 'Support': 1, 'SVMs': 2, 'support': 1, 'marked': 1, 'belonging': 1, 'SVM': 3, 'builds': 1, 'predicts': 1, 'whether': 1, 'category': 1, 'binary': 1, 'although': 1, 'Platt': 1, 'scaling': 1, 'efficiently': 1, 'kernel': 3, 'trick': 2, 'implicitly': 2, 'mapping': 1, 'high': 1, 'spaces': 1, 'Regression': 1, 'estimate': 1, 'relationship': 1, 'Its': 1, 'form': 2, 'single': 1, 'criterion': 1, 'ordinary': 1, 'squares': 1, 'latter': 1, 'extended': 1, 'regularization': 1, 'mathematics': 1, 'mitigate': 1, 'ridge': 1, 'When': 2, 'trendline': 2, 'fitting': 1, 'Microsoft': 2, 'Excel': 1, 'Logistic': 1, 'even': 3, 'introduces': 1, 'linearity': 1, 'taking': 1, 'advantage': 1, 'map': 1, 'Bayesian': 5, 'belief': 1, 'directed': 2, 'acyclic': 2, 'graphical': 2, 'represents': 1, 'random': 1, 'conditional': 1, 'independence': 1, 'DAG': 1, 'could': 2, 'diseases': 2, 'symptoms': 2, 'compute': 3, 'probabilities': 1, 'Efficient': 1, 'inference': 1, 'signals': 1, 'protein': 1, 'Generalizations': 1, 'uncertainty': 1, 'influence': 1, 'diagrams': 1, 'GA': 1, 'search': 2, 'mimics': 1, 'selection': 1, 'mutation': 1, 'crossover': 1, 'genotypes': 1, 'hope': 1, 'good': 2, 'solutions': 1, 'Conversely': 1, 'evolutionary': 1, 'Usually': 2, 'lot': 1, 'needs': 2, 'collect': 1, 'varied': 1, 'corpus': 1, 'collected': 2, 'individual': 2, 'users': 3, 'service': 1, 'Overfitting': 1, 'something': 1, 'watch': 1, 'Federated': 1, 'adapted': 1, 'Distributed': 1, 'decentralizes': 1, 'allowing': 1, 'privacy': 2, 'maintained': 1, 'needing': 1, 'send': 2, 'centralized': 1, 'server': 1, 'efficiency': 1, 'decentralizing': 1, 'devices': 1, 'Gboard': 1, 'federated': 1, 'query': 1, 'mobile': 1, 'phones': 1, 'searches': 1, 'back': 1, 'Google': 3, 'media': 1, 'services': 1, 'provider': 1, 'Netflix': 3, 'held': 1, 'Prize': 2, 'competition': 1, 'user': 1, 'preferences': 1, 'existing': 1, 'Cinematch': 1, 'movie': 1, 'joint': 1, 'team': 1, 'made': 2, 'AT': 1, 'Labs': 1, 'Research': 2, 'collaboration': 1, 'teams': 1, 'Big': 1, 'Chaos': 1, 'Pragmatic': 1, 'Theory': 1, 'ensemble': 1, 'win': 1, 'Grand': 1, 'million': 1, 'Shortly': 1, 'prize': 1, 'awarded': 1, 'realized': 1, 'viewers': 1, 'ratings': 1, 'indicators': 1, 'viewing': 1, 'everything': 1, 'engine': 1, 'accordingly': 1, 'Wall': 1, 'Street': 1, 'Journal': 1, 'wrote': 1, 'firm': 2, 'Rebellion': 1, 'financial': 1, 'crisis': 1, 'co': 1, 'founder': 1, 'Sun': 1, 'Microsystems': 1, 'Vinod': 1, 'Khosla': 1, 'predicted': 1, 'doctors': 1, 'jobs': 1, 'lost': 1, 'next': 1, 'decades': 1, 'diagnostic': 2, 'reported': 1, 'art': 2, 'fine': 1, 'paintings': 1, 'revealed': 1, 'unrecognized': 1, 'influences': 1, 'among': 2, 'artists': 1, 'Springer': 1, 'Nature': 1, 'published': 1, 'created': 2, 'Although': 1, 'transformative': 1, 'deliver': 2, 'expected': 1, 'Reasons': 1, 'numerous': 1, 'lack': 3, 'suitable': 1, 'access': 1, 'badly': 1, 'chosen': 1, 'wrong': 1, 'people': 7, 'resources': 1, 'evaluation': 2, 'car': 1, 'Uber': 1, 'failed': 2, 'pedestrian': 1, 'killed': 1, 'collision': 1, 'Attempts': 1, 'healthcare': 1, 'IBM': 1, 'Watson': 1, 'years': 1, 'billions': 1, 'investment': 1, 'suffer': 1, 'biases': 10, 'current': 1, 'customers': 1, 'groups': 1, 'man': 1, 'pick': 1, 'constitutional': 1, 'unconscious': 1, 'present': 1, 'society': 1, 'Language': 1, 'shown': 1, 'contain': 3, 'criminal': 1, 'risk': 1, 'assessment': 1, 'biased': 1, 'black': 2, 'photos': 1, 'tag': 1, 'gorillas': 3, 'still': 2, 'resolved': 1, 'reportedly': 1, 'workaround': 1, 'remove': 1, 'thus': 4, 'Similar': 1, 'issues': 1, 'recognizing': 1, 'white': 1, 'tested': 1, 'chatbot': 1, 'Twitter': 1, 'quickly': 1, 'picked': 1, 'racist': 2, 'sexist': 1, 'challenges': 2, 'longer': 1, 'Concern': 1, 'fairness': 1, 'reducing': 1, 'propelling': 1, 'increasingly': 1, 'expressed': 1, 'scientists': 1, 'Fei': 2, 'Li': 1, 'reminds': 1, 'engineers': 1, 'nothing': 1, '...': 1, 'importantly': 1, 'impacts': 1, 'powerful': 1, 'tool': 2, 'beginning': 1, 'understand': 1, 'profound': 1, 'responsibility': 1, 'validated': 1, 'Holdout': 1, 'splits': 1, 'conventionally': 1, 'designation': 1, 'evaluates': 1, 'comparison': 1, 'cross': 2, 'validation': 2, 'randomly': 1, 'partitions': 1, 'experiments': 1, 'performed': 1, 'respectively': 2, 'remaining': 1, 'holdout': 1, 'bootstrap': 1, 'replacement': 1, 'assess': 1, 'investigators': 2, 'frequently': 1, 'sensitivity': 1, 'specificity': 1, 'True': 2, 'Rate': 4, 'TPR': 1, 'TNR': 1, 'Similarly': 1, 'False': 2, 'FPR': 1, 'FNR': 1, 'rates': 2, 'ratios': 1, 'reveal': 1, 'numerators': 2, 'denominators': 2, 'Total': 1, 'Operating': 2, 'Characteristic': 2, 'TOC': 3, 'shows': 1, 'mentioned': 2, 'provides': 1, 'Receiver': 1, 'ROC': 2, 'Area': 1, 'Under': 1, 'Curve': 1, 'AUC': 1, 'poses': 1, 'host': 1, 'ethical': 3, 'questions': 1, 'Systems': 1, 'datasets': 1, 'exhibit': 1, 'upon': 1, 'digitizing': 1, 'cultural': 1, 'prejudices': 1, 'job': 2, 'hiring': 2, 'policies': 1, 'duplicating': 1, 'scoring': 1, 'applicants': 2, 'previous': 1, 'Responsible': 1, 'documentation': 1, 'critical': 1, 'corpora': 1, 'personal': 2, 'health': 4, 'care': 4, 'concerns': 1, 'professionals': 2, 'might': 1, 'designed': 2, 'public': 1, 'interest': 1, 'income': 1, 'true': 1, 'United': 1, 'States': 1, 'standing': 1, 'dilemma': 1, 'improving': 1, 'profits': 1, 'provide': 2, 'patients': 2, 'unnecessary': 1, 'tests': 1, 'medication': 1, 'proprietary': 1, 'owners': 1, 'hold': 1, 'stakes': 1, 'huge': 1, 'great': 1, 'diagnose': 1, 'medicate': 1, 'plan': 1, 'recovery': 1, 'paths': 1, 'happen': 1, 'greed': 1, 'addressed': 1, 'Since': 1, 'advances': 1, 'hardware': 2, 'led': 1, 'efficient': 1, 'narrow': 1, 'subdomain': 1, 'graphic': 1, 'GPUs': 1, 'enhancements': 1, 'displaced': 1, 'CPUs': 1, 'commercial': 1, 'cloud': 1, 'OpenAI': 1, 'largest': 1, 'projects': 1, 'AlexNet': 1, 'AlphaZero': 1, 'increase': 1, 'doubling': 1, 'months': 1, 'Software': 1, 'suites': 1, 'containing': 1}\n"
     ]
    }
   ],
   "source": [
    "print(word_frequencies)"
   ]
  },
  {
   "cell_type": "code",
   "execution_count": 127,
   "metadata": {},
   "outputs": [],
   "source": [
    "\n",
    "maximum_frequency_word = max(word_frequencies.values())\n",
    "for word in word_frequencies.keys():\n",
    "    word_frequencies[word] = (word_frequencies[word]/maximum_frequency_word)\n",
    "#print(word_frequencies)   "
   ]
  },
  {
   "cell_type": "code",
   "execution_count": 129,
   "metadata": {},
   "outputs": [],
   "source": [
    " #calculate sentence score with each word weighted frequency \n",
    "sentences_scores = {}\n",
    "for sentence in sentences_tokens:\n",
    "    for word in nltk.word_tokenize(sentence.lower()):\n",
    "        if word in word_frequencies.keys():\n",
    "            if (len(sentence.split(' ')))<30:\n",
    "                if sentence not in sentences_scores.keys():\n",
    "                    sentences_scores[sentence] = word_frequencies[word]\n",
    "                else:\n",
    "                    sentences_scores[sentence]+=word_frequencies[word]\n",
    "                    \n",
    "        #print(sentences_scores)"
   ]
  },
  {
   "cell_type": "code",
   "execution_count": 131,
   "metadata": {},
   "outputs": [],
   "source": [
    "#Summary in 15 sentences using the heapq\n",
    "summary_MachineLearning = heapq.nlargest(15, sentences_scores,key=sentences_scores.get)"
   ]
  },
  {
   "cell_type": "code",
   "execution_count": 133,
   "metadata": {},
   "outputs": [
    {
     "name": "stdout",
     "output_type": "stream",
     "text": [
      "['In weakly supervised learning, the training labels are noisy, limited, or imprecise however, these labels are often cheaper to obtain, resulting in larger effective training sets.', 'Artificial neural networks have been used on a variety of tasks, including computer vision, speech recognition, machine translation, social network filtering, playing board and video games and medical diagnosis.', 'This line, too, was continued outside the AI CS field, as \"connectionism\", by researchers from other disciplines including Hopfield, Rumelhart and Hinton.', 'Rule based machine learning is a general term for any machine learning method that identifies, learns, or evolves \"rules\" to store, manipulate or apply knowledge.', 'Usually, when training a machine learning model, one needs to collect a large, representative sample of data from a training set.', 'Each connection, like the synapses in a biological brain, can transmit information, a \"signal\", from one artificial neuron to another.', 'In addition to market basket analysis, association rules are employed today in application areas including Web usage mining, intrusion detection, continuous production, and bioinformatics.', 'It has applications in ranking, recommendation systems, visual identity tracking, face verification, and speaker verification.', 'Rule based machine learning approaches include learning classifier systems, association rule learning, and artificial immune systems.', 'In machine learning, genetic algorithms were used in the s and s. Conversely, machine learning techniques have been used to improve the performance of genetic and evolutionary algorithms.', 'Machine learning algorithms build a mathematical model based on sample data, known as \"training data\", in order to make predictions or decisions without being explicitly programmed to do so.', 'Yet some practitioners, for example Dr Daniel Hulme, who both teaches AI and runs a company operating in the field, argues that machine learning and AI are separate.', 'In the mathematical model, each training example is represented by an array or vector, sometimes called a feature vector, and the training data is represented by a matrix.', 'Deep learning algorithms discover multiple levels of representation, or a hierarchy of features, with higher level, more abstract features defined in terms of or generating lower level features.', 'According to Michael I. Jordan, the ideas of machine learning, from methodological principles to theoretical tools, have had a long pre history in statistics.']\n"
     ]
    }
   ],
   "source": [
    "print(summary_MachineLearning)"
   ]
  },
  {
   "cell_type": "code",
   "execution_count": null,
   "metadata": {},
   "outputs": [],
   "source": []
  },
  {
   "cell_type": "code",
   "execution_count": null,
   "metadata": {},
   "outputs": [],
   "source": []
  }
 ],
 "metadata": {
  "kernelspec": {
   "display_name": "Python 3",
   "language": "python",
   "name": "python3"
  },
  "language_info": {
   "codemirror_mode": {
    "name": "ipython",
    "version": 3
   },
   "file_extension": ".py",
   "mimetype": "text/x-python",
   "name": "python",
   "nbconvert_exporter": "python",
   "pygments_lexer": "ipython3",
   "version": "3.7.6"
  }
 },
 "nbformat": 4,
 "nbformat_minor": 4
}
